{
  "nbformat": 4,
  "nbformat_minor": 0,
  "metadata": {
    "colab": {
      "provenance": []
    },
    "kernelspec": {
      "name": "python3",
      "display_name": "Python 3"
    },
    "language_info": {
      "name": "python"
    }
  },
  "cells": [
    {
      "cell_type": "markdown",
      "source": [
        "\n",
        "Since the problem statement involves predicting patient survival using a binary classification model with hospital_death as the target variable, I'll begin by loading and preparing the dataset for the classification task. We will aim to predict hospital_death based on the other 84 features using a machine learning model, such as logistic regression or a random forest classifier."
      ],
      "metadata": {
        "id": "7yHONwThBVuL"
      }
    },
    {
      "cell_type": "markdown",
      "source": [
        "Load the dataset.\n",
        "\n",
        "Preprocess the data (handle missing values, encode categorical variables, etc.).\n",
        "\n",
        "Split the data into training and test sets.\n",
        "\n",
        "Train a classifier (Logistic Regression or Random Forest).\n",
        "\n",
        "Evaluate the model using Accuracy and Area Under ROC Curve (AUC)."
      ],
      "metadata": {
        "id": "ZZSh3hVBBZtl"
      }
    },
    {
      "cell_type": "markdown",
      "source": [
        "The dataset contains 186 columns, including patient demographics, medical conditions, and various clinical features. The target variable for this classification task is hospital_death, which is a binary variable (0 for survival, 1 for death).\n",
        "\n",
        "Next, I'll proceed with:\n",
        "\n",
        "Handling any missing values.\n",
        "\n",
        "Encoding categorical variables.\n",
        "\n",
        "Splitting the data into training and testing sets.\n",
        "\n",
        "Building a classification model (Logistic Regression or Random Forest)."
      ],
      "metadata": {
        "id": "96hKlLqoBfb0"
      }
    },
    {
      "cell_type": "markdown",
      "source": [
        "The dataset has a significant amount of missing data in several columns, particularly for clinical measurements like bilirubin, lactate, and albumin. We'll handle these missing values in one of the following ways:\n",
        "\n",
        "Imputation: Fill missing values with the median or mean.\n",
        "Drop columns/rows: If columns have too many missing values, we can drop them."
      ],
      "metadata": {
        "id": "4Z3tN1saBjmb"
      }
    },
    {
      "cell_type": "code",
      "source": [
        "# Import necessary libraries\n",
        "import pandas as pd\n",
        "from sklearn.model_selection import train_test_split\n",
        "from sklearn.ensemble import RandomForestClassifier\n",
        "from sklearn.metrics import accuracy_score, roc_auc_score\n",
        "from sklearn.impute import SimpleImputer\n",
        "from sklearn.preprocessing import LabelEncoder\n"
      ],
      "metadata": {
        "id": "n2zoHqU0BWG5"
      },
      "execution_count": null,
      "outputs": []
    },
    {
      "cell_type": "code",
      "source": [
        "# Load the dataset\n",
        "df_patient = pd.read_csv('/content/Dataset.csv')  # You can modify this based on the actual file name\n",
        "df_dictionary = pd.read_csv('/content/Data Dictionary.csv')  #"
      ],
      "metadata": {
        "id": "GFa1d24SB4po"
      },
      "execution_count": null,
      "outputs": []
    },
    {
      "cell_type": "code",
      "source": [
        "# Display the first few rows of the dataset and data dictionary\n",
        "print(\"Dataset Preview:\")\n",
        "print(df_patient.head())"
      ],
      "metadata": {
        "colab": {
          "base_uri": "https://localhost:8080/"
        },
        "id": "_5lVM_AUDYtq",
        "outputId": "817d993c-0957-4093-943c-136ee9822937"
      },
      "execution_count": null,
      "outputs": [
        {
          "output_type": "stream",
          "name": "stdout",
          "text": [
            "Dataset Preview:\n",
            "   encounter_id  patient_id  hospital_id  hospital_death   age    bmi  \\\n",
            "0         66154       25312          118               0  68.0  22.73   \n",
            "1        114252       59342           81               0  77.0  27.42   \n",
            "2        119783       50777          118               0  25.0  31.95   \n",
            "3         79267       46918          118               0  81.0  22.64   \n",
            "4         92056       34377           33               0  19.0    NaN   \n",
            "\n",
            "   elective_surgery  ethnicity gender  height  ... aids cirrhosis  \\\n",
            "0                 0  Caucasian      M   180.3  ...  0.0       0.0   \n",
            "1                 0  Caucasian      F   160.0  ...  0.0       0.0   \n",
            "2                 0  Caucasian      F   172.7  ...  0.0       0.0   \n",
            "3                 1  Caucasian      F   165.1  ...  0.0       0.0   \n",
            "4                 0  Caucasian      M   188.0  ...  0.0       0.0   \n",
            "\n",
            "   diabetes_mellitus hepatic_failure immunosuppression  leukemia  lymphoma  \\\n",
            "0                1.0             0.0               0.0       0.0       0.0   \n",
            "1                1.0             0.0               0.0       0.0       0.0   \n",
            "2                0.0             0.0               0.0       0.0       0.0   \n",
            "3                0.0             0.0               0.0       0.0       0.0   \n",
            "4                0.0             0.0               0.0       0.0       0.0   \n",
            "\n",
            "   solid_tumor_with_metastasis  apache_3j_bodysystem  apache_2_bodysystem  \n",
            "0                          0.0                Sepsis       Cardiovascular  \n",
            "1                          0.0           Respiratory          Respiratory  \n",
            "2                          0.0             Metabolic            Metabolic  \n",
            "3                          0.0        Cardiovascular       Cardiovascular  \n",
            "4                          0.0                Trauma               Trauma  \n",
            "\n",
            "[5 rows x 186 columns]\n"
          ]
        }
      ]
    },
    {
      "cell_type": "code",
      "source": [
        "print(\"\\nData Dictionary Preview:\")\n",
        "print(df_dictionary.head())\n"
      ],
      "metadata": {
        "colab": {
          "base_uri": "https://localhost:8080/"
        },
        "id": "Y7ZQcLwLDIiP",
        "outputId": "c086950e-011c-40c1-e8be-78925be0802c"
      },
      "execution_count": null,
      "outputs": [
        {
          "output_type": "stream",
          "name": "stdout",
          "text": [
            "\n",
            "Data Dictionary Preview:\n",
            "      Category   Variable Name Unit of Measure Data Type  \\\n",
            "0   identifier    encounter_id             NaN   integer   \n",
            "1   identifier     hospital_id             NaN   integer   \n",
            "2   identifier      patient_id             NaN   integer   \n",
            "3  demographic  hospital_death             NaN    binary   \n",
            "4  demographic             age           Years   numeric   \n",
            "\n",
            "                                         Description Example  \n",
            "0  Unique identifier associated with a patient un...     NaN  \n",
            "1       Unique identifier associated with a hospital     NaN  \n",
            "2        Unique identifier associated with a patient     NaN  \n",
            "3  Whether the patient died during this hospitali...       0  \n",
            "4           The age of the patient on unit admission     NaN  \n"
          ]
        }
      ]
    },
    {
      "cell_type": "code",
      "source": [
        "# Handle missing values\n",
        "# For numeric columns, we will use median imputation\n",
        "numeric_cols = df_patient.select_dtypes(include=['float64', 'int64']).columns\n",
        "imputer = SimpleImputer(strategy='median')\n",
        "df_patient[numeric_cols] = imputer.fit_transform(df_patient[numeric_cols])"
      ],
      "metadata": {
        "id": "yEYhKLz0Dc1q"
      },
      "execution_count": null,
      "outputs": []
    },
    {
      "cell_type": "code",
      "source": [
        "# For categorical columns, use the most frequent value to impute missing data\n",
        "categorical_cols = df_patient.select_dtypes(include=['object']).columns\n",
        "imputer_cat = SimpleImputer(strategy='most_frequent')\n",
        "df_patient[categorical_cols] = imputer_cat.fit_transform(df_patient[categorical_cols])\n"
      ],
      "metadata": {
        "id": "bNuQaE2MDdZp"
      },
      "execution_count": null,
      "outputs": []
    },
    {
      "cell_type": "code",
      "source": [
        "# Encode categorical variables (like gender, ethnicity, etc.)\n",
        "label_encoders = {}\n",
        "for col in categorical_cols:\n",
        "    le = LabelEncoder()\n",
        "    df_patient[col] = le.fit_transform(df_patient[col])\n",
        "    label_encoders[col] = le  # Store label encoders if needed for inverse transform\n"
      ],
      "metadata": {
        "id": "dEymJgjlDfN5"
      },
      "execution_count": null,
      "outputs": []
    },
    {
      "cell_type": "code",
      "source": [
        "\n",
        "# Separate features and target variable\n",
        "X = df_patient.drop(columns=['hospital_death'])\n",
        "y = df_patient['hospital_death']\n"
      ],
      "metadata": {
        "id": "vc0Rg07hDiTI"
      },
      "execution_count": null,
      "outputs": []
    },
    {
      "cell_type": "code",
      "source": [
        "# Split the data into training and testing sets (80% train, 20% test)\n",
        "X_train, X_test, y_train, y_test = train_test_split(X, y, test_size=0.2, random_state=42)\n"
      ],
      "metadata": {
        "id": "UKr1tzn_DkCt"
      },
      "execution_count": null,
      "outputs": []
    },
    {
      "cell_type": "code",
      "source": [
        "# Build and train the Random Forest Classifier\n",
        "rf_model = RandomForestClassifier(random_state=42)\n",
        "rf_model.fit(X_train, y_train)\n"
      ],
      "metadata": {
        "colab": {
          "base_uri": "https://localhost:8080/",
          "height": 74
        },
        "id": "L5uIPjS5Dl0X",
        "outputId": "267202fc-4695-49a4-9603-6a21085e7834"
      },
      "execution_count": null,
      "outputs": [
        {
          "output_type": "execute_result",
          "data": {
            "text/plain": [
              "RandomForestClassifier(random_state=42)"
            ],
            "text/html": [
              "<style>#sk-container-id-1 {color: black;}#sk-container-id-1 pre{padding: 0;}#sk-container-id-1 div.sk-toggleable {background-color: white;}#sk-container-id-1 label.sk-toggleable__label {cursor: pointer;display: block;width: 100%;margin-bottom: 0;padding: 0.3em;box-sizing: border-box;text-align: center;}#sk-container-id-1 label.sk-toggleable__label-arrow:before {content: \"▸\";float: left;margin-right: 0.25em;color: #696969;}#sk-container-id-1 label.sk-toggleable__label-arrow:hover:before {color: black;}#sk-container-id-1 div.sk-estimator:hover label.sk-toggleable__label-arrow:before {color: black;}#sk-container-id-1 div.sk-toggleable__content {max-height: 0;max-width: 0;overflow: hidden;text-align: left;background-color: #f0f8ff;}#sk-container-id-1 div.sk-toggleable__content pre {margin: 0.2em;color: black;border-radius: 0.25em;background-color: #f0f8ff;}#sk-container-id-1 input.sk-toggleable__control:checked~div.sk-toggleable__content {max-height: 200px;max-width: 100%;overflow: auto;}#sk-container-id-1 input.sk-toggleable__control:checked~label.sk-toggleable__label-arrow:before {content: \"▾\";}#sk-container-id-1 div.sk-estimator input.sk-toggleable__control:checked~label.sk-toggleable__label {background-color: #d4ebff;}#sk-container-id-1 div.sk-label input.sk-toggleable__control:checked~label.sk-toggleable__label {background-color: #d4ebff;}#sk-container-id-1 input.sk-hidden--visually {border: 0;clip: rect(1px 1px 1px 1px);clip: rect(1px, 1px, 1px, 1px);height: 1px;margin: -1px;overflow: hidden;padding: 0;position: absolute;width: 1px;}#sk-container-id-1 div.sk-estimator {font-family: monospace;background-color: #f0f8ff;border: 1px dotted black;border-radius: 0.25em;box-sizing: border-box;margin-bottom: 0.5em;}#sk-container-id-1 div.sk-estimator:hover {background-color: #d4ebff;}#sk-container-id-1 div.sk-parallel-item::after {content: \"\";width: 100%;border-bottom: 1px solid gray;flex-grow: 1;}#sk-container-id-1 div.sk-label:hover label.sk-toggleable__label {background-color: #d4ebff;}#sk-container-id-1 div.sk-serial::before {content: \"\";position: absolute;border-left: 1px solid gray;box-sizing: border-box;top: 0;bottom: 0;left: 50%;z-index: 0;}#sk-container-id-1 div.sk-serial {display: flex;flex-direction: column;align-items: center;background-color: white;padding-right: 0.2em;padding-left: 0.2em;position: relative;}#sk-container-id-1 div.sk-item {position: relative;z-index: 1;}#sk-container-id-1 div.sk-parallel {display: flex;align-items: stretch;justify-content: center;background-color: white;position: relative;}#sk-container-id-1 div.sk-item::before, #sk-container-id-1 div.sk-parallel-item::before {content: \"\";position: absolute;border-left: 1px solid gray;box-sizing: border-box;top: 0;bottom: 0;left: 50%;z-index: -1;}#sk-container-id-1 div.sk-parallel-item {display: flex;flex-direction: column;z-index: 1;position: relative;background-color: white;}#sk-container-id-1 div.sk-parallel-item:first-child::after {align-self: flex-end;width: 50%;}#sk-container-id-1 div.sk-parallel-item:last-child::after {align-self: flex-start;width: 50%;}#sk-container-id-1 div.sk-parallel-item:only-child::after {width: 0;}#sk-container-id-1 div.sk-dashed-wrapped {border: 1px dashed gray;margin: 0 0.4em 0.5em 0.4em;box-sizing: border-box;padding-bottom: 0.4em;background-color: white;}#sk-container-id-1 div.sk-label label {font-family: monospace;font-weight: bold;display: inline-block;line-height: 1.2em;}#sk-container-id-1 div.sk-label-container {text-align: center;}#sk-container-id-1 div.sk-container {/* jupyter's `normalize.less` sets `[hidden] { display: none; }` but bootstrap.min.css set `[hidden] { display: none !important; }` so we also need the `!important` here to be able to override the default hidden behavior on the sphinx rendered scikit-learn.org. See: https://github.com/scikit-learn/scikit-learn/issues/21755 */display: inline-block !important;position: relative;}#sk-container-id-1 div.sk-text-repr-fallback {display: none;}</style><div id=\"sk-container-id-1\" class=\"sk-top-container\"><div class=\"sk-text-repr-fallback\"><pre>RandomForestClassifier(random_state=42)</pre><b>In a Jupyter environment, please rerun this cell to show the HTML representation or trust the notebook. <br />On GitHub, the HTML representation is unable to render, please try loading this page with nbviewer.org.</b></div><div class=\"sk-container\" hidden><div class=\"sk-item\"><div class=\"sk-estimator sk-toggleable\"><input class=\"sk-toggleable__control sk-hidden--visually\" id=\"sk-estimator-id-1\" type=\"checkbox\" checked><label for=\"sk-estimator-id-1\" class=\"sk-toggleable__label sk-toggleable__label-arrow\">RandomForestClassifier</label><div class=\"sk-toggleable__content\"><pre>RandomForestClassifier(random_state=42)</pre></div></div></div></div></div>"
            ]
          },
          "metadata": {},
          "execution_count": 12
        }
      ]
    },
    {
      "cell_type": "code",
      "source": [
        "# Predict on the test set\n",
        "y_pred = rf_model.predict(X_test)"
      ],
      "metadata": {
        "id": "NlpckOsJDncM"
      },
      "execution_count": null,
      "outputs": []
    },
    {
      "cell_type": "code",
      "source": [
        "# Evaluate the model using Accuracy and AUC\n",
        "accuracy = accuracy_score(y_test, y_pred)\n",
        "roc_auc = roc_auc_score(y_test, rf_model.predict_proba(X_test)[:, 1])\n"
      ],
      "metadata": {
        "id": "8er2aodCDpNa"
      },
      "execution_count": null,
      "outputs": []
    },
    {
      "cell_type": "code",
      "source": [
        "# Print the results\n",
        "print(f\"Accuracy: {accuracy}\")\n",
        "print(f\"Area Under ROC Curve (AUC): {roc_auc}\")"
      ],
      "metadata": {
        "colab": {
          "base_uri": "https://localhost:8080/"
        },
        "id": "RvkoJy1MDq6R",
        "outputId": "9b45a7f5-e0ba-42a9-816a-9b7544296374"
      },
      "execution_count": null,
      "outputs": [
        {
          "output_type": "stream",
          "name": "stdout",
          "text": [
            "Accuracy: 0.9316753753555129\n",
            "Area Under ROC Curve (AUC): 0.8815865981407578\n"
          ]
        }
      ]
    },
    {
      "cell_type": "markdown",
      "source": [
        "To build a deep learning model for predicting patient survival based on the hospital_death target variable, we will implement a Deep Neural Network (DNN) using Keras. The goal is to predict whether a patient will survive (0) or die (1) during their hospital stay based on 84 other features.\n",
        "\n",
        "Steps:\n",
        "Data Preprocessing: Handle missing values, encode categorical variables, and split the dataset.\n",
        "Build a Deep Learning Model: Build and compile a DNN using Keras.\n",
        "\n",
        "Train the Model: Train the DNN on the training data.\n",
        "Evaluate the Model: Use Accuracy and AUC as the evaluation metrics.\n",
        "\n",
        "Visualize Training Performance: Optionally visualize the training/validation loss and accuracy.\n",
        "Implementation:\n",
        "\n",
        "1. Data Preprocessing\n",
        "We start by preprocessing the dataset: handle missing values, encode categorical variables, and split the dataset into training and testing sets."
      ],
      "metadata": {
        "id": "BrTlpzzFN9uN"
      }
    },
    {
      "cell_type": "code",
      "source": [
        "import pandas as pd\n",
        "from sklearn.model_selection import train_test_split\n",
        "from sklearn.impute import SimpleImputer\n",
        "from sklearn.preprocessing import LabelEncoder\n",
        "from sklearn.preprocessing import StandardScaler\n",
        "from google.colab import files\n",
        "\n",
        "# Load the dataset\n",
        "df_patient = pd.read_csv('/content/Dataset.csv')\n",
        "\n",
        "# Handle missing values\n",
        "# For numeric columns, we will use median imputation\n",
        "numeric_cols = df_patient.select_dtypes(include=['float64', 'int64']).columns\n",
        "imputer = SimpleImputer(strategy='median')\n",
        "df_patient[numeric_cols] = imputer.fit_transform(df_patient[numeric_cols])\n",
        "\n",
        "# For categorical columns, use the most frequent value to impute missing data\n",
        "categorical_cols = df_patient.select_dtypes(include=['object']).columns\n",
        "imputer_cat = SimpleImputer(strategy='most_frequent')\n",
        "df_patient[categorical_cols] = imputer_cat.fit_transform(df_patient[categorical_cols])\n",
        "\n",
        "# Encode categorical variables (like gender, ethnicity, etc.)\n",
        "label_encoders = {}\n",
        "for col in categorical_cols:\n",
        "    le = LabelEncoder()\n",
        "    df_patient[col] = le.fit_transform(df_patient[col])\n",
        "    label_encoders[col] = le  # Store label encoders if needed for inverse transform\n",
        "\n",
        "# Separate features and target variable\n",
        "X = df_patient.drop(columns=['hospital_death'])\n",
        "y = df_patient['hospital_death']\n",
        "\n",
        "# Split the data into training and testing sets (80% train, 20% test)\n",
        "X_train, X_test, y_train, y_test = train_test_split(X, y, test_size=0.2, random_state=42)\n",
        "\n",
        "# Standardize the feature values for deep learning model\n",
        "scaler = StandardScaler()\n",
        "X_train_scaled = scaler.fit_transform(X_train)\n",
        "X_test_scaled = scaler.transform(X_test)\n"
      ],
      "metadata": {
        "id": "ijpasDdCOAlt"
      },
      "execution_count": null,
      "outputs": []
    },
    {
      "cell_type": "markdown",
      "source": [
        "2. Build the Deep Learning Model\n",
        "We now build a Deep Neural Network (DNN) using Keras with several hidden layers. This model will classify whether the patient survives or dies based on the provided features.\n",
        "\n"
      ],
      "metadata": {
        "id": "iHVYX4nbOJtm"
      }
    },
    {
      "cell_type": "code",
      "source": [
        "import tensorflow as tf\n",
        "from tensorflow.keras.models import Sequential\n",
        "from tensorflow.keras.layers import Dense\n",
        "\n",
        "# Build the deep learning model\n",
        "model = Sequential()\n",
        "\n",
        "# Input layer\n",
        "model.add(Dense(64, input_dim=X_train_scaled.shape[1], activation='relu'))\n",
        "\n",
        "# Hidden layers\n",
        "model.add(Dense(128, activation='relu'))\n",
        "model.add(Dense(64, activation='relu'))\n",
        "\n",
        "# Output layer (binary classification)\n",
        "model.add(Dense(1, activation='sigmoid'))\n",
        "\n",
        "# Compile the model\n",
        "model.compile(optimizer='adam', loss='binary_crossentropy', metrics=['accuracy', tf.keras.metrics.AUC()])\n",
        "\n",
        "# Summary of the model\n",
        "model.summary()\n"
      ],
      "metadata": {
        "colab": {
          "base_uri": "https://localhost:8080/",
          "height": 318
        },
        "id": "egbuO3WlOMGC",
        "outputId": "0200e29f-337e-4dd5-921d-c78bd261ea85"
      },
      "execution_count": null,
      "outputs": [
        {
          "output_type": "stream",
          "name": "stderr",
          "text": [
            "/usr/local/lib/python3.10/dist-packages/keras/src/layers/core/dense.py:87: UserWarning: Do not pass an `input_shape`/`input_dim` argument to a layer. When using Sequential models, prefer using an `Input(shape)` object as the first layer in the model instead.\n",
            "  super().__init__(activity_regularizer=activity_regularizer, **kwargs)\n"
          ]
        },
        {
          "output_type": "display_data",
          "data": {
            "text/plain": [
              "\u001b[1mModel: \"sequential\"\u001b[0m\n"
            ],
            "text/html": [
              "<pre style=\"white-space:pre;overflow-x:auto;line-height:normal;font-family:Menlo,'DejaVu Sans Mono',consolas,'Courier New',monospace\"><span style=\"font-weight: bold\">Model: \"sequential\"</span>\n",
              "</pre>\n"
            ]
          },
          "metadata": {}
        },
        {
          "output_type": "display_data",
          "data": {
            "text/plain": [
              "┏━━━━━━━━━━━━━━━━━━━━━━━━━━━━━━━━━━━━━━┳━━━━━━━━━━━━━━━━━━━━━━━━━━━━━┳━━━━━━━━━━━━━━━━━┓\n",
              "┃\u001b[1m \u001b[0m\u001b[1mLayer (type)                        \u001b[0m\u001b[1m \u001b[0m┃\u001b[1m \u001b[0m\u001b[1mOutput Shape               \u001b[0m\u001b[1m \u001b[0m┃\u001b[1m \u001b[0m\u001b[1m        Param #\u001b[0m\u001b[1m \u001b[0m┃\n",
              "┡━━━━━━━━━━━━━━━━━━━━━━━━━━━━━━━━━━━━━━╇━━━━━━━━━━━━━━━━━━━━━━━━━━━━━╇━━━━━━━━━━━━━━━━━┩\n",
              "│ dense (\u001b[38;5;33mDense\u001b[0m)                        │ (\u001b[38;5;45mNone\u001b[0m, \u001b[38;5;34m64\u001b[0m)                  │          \u001b[38;5;34m11,904\u001b[0m │\n",
              "├──────────────────────────────────────┼─────────────────────────────┼─────────────────┤\n",
              "│ dense_1 (\u001b[38;5;33mDense\u001b[0m)                      │ (\u001b[38;5;45mNone\u001b[0m, \u001b[38;5;34m128\u001b[0m)                 │           \u001b[38;5;34m8,320\u001b[0m │\n",
              "├──────────────────────────────────────┼─────────────────────────────┼─────────────────┤\n",
              "│ dense_2 (\u001b[38;5;33mDense\u001b[0m)                      │ (\u001b[38;5;45mNone\u001b[0m, \u001b[38;5;34m64\u001b[0m)                  │           \u001b[38;5;34m8,256\u001b[0m │\n",
              "├──────────────────────────────────────┼─────────────────────────────┼─────────────────┤\n",
              "│ dense_3 (\u001b[38;5;33mDense\u001b[0m)                      │ (\u001b[38;5;45mNone\u001b[0m, \u001b[38;5;34m1\u001b[0m)                   │              \u001b[38;5;34m65\u001b[0m │\n",
              "└──────────────────────────────────────┴─────────────────────────────┴─────────────────┘\n"
            ],
            "text/html": [
              "<pre style=\"white-space:pre;overflow-x:auto;line-height:normal;font-family:Menlo,'DejaVu Sans Mono',consolas,'Courier New',monospace\">┏━━━━━━━━━━━━━━━━━━━━━━━━━━━━━━━━━━━━━━┳━━━━━━━━━━━━━━━━━━━━━━━━━━━━━┳━━━━━━━━━━━━━━━━━┓\n",
              "┃<span style=\"font-weight: bold\"> Layer (type)                         </span>┃<span style=\"font-weight: bold\"> Output Shape                </span>┃<span style=\"font-weight: bold\">         Param # </span>┃\n",
              "┡━━━━━━━━━━━━━━━━━━━━━━━━━━━━━━━━━━━━━━╇━━━━━━━━━━━━━━━━━━━━━━━━━━━━━╇━━━━━━━━━━━━━━━━━┩\n",
              "│ dense (<span style=\"color: #0087ff; text-decoration-color: #0087ff\">Dense</span>)                        │ (<span style=\"color: #00d7ff; text-decoration-color: #00d7ff\">None</span>, <span style=\"color: #00af00; text-decoration-color: #00af00\">64</span>)                  │          <span style=\"color: #00af00; text-decoration-color: #00af00\">11,904</span> │\n",
              "├──────────────────────────────────────┼─────────────────────────────┼─────────────────┤\n",
              "│ dense_1 (<span style=\"color: #0087ff; text-decoration-color: #0087ff\">Dense</span>)                      │ (<span style=\"color: #00d7ff; text-decoration-color: #00d7ff\">None</span>, <span style=\"color: #00af00; text-decoration-color: #00af00\">128</span>)                 │           <span style=\"color: #00af00; text-decoration-color: #00af00\">8,320</span> │\n",
              "├──────────────────────────────────────┼─────────────────────────────┼─────────────────┤\n",
              "│ dense_2 (<span style=\"color: #0087ff; text-decoration-color: #0087ff\">Dense</span>)                      │ (<span style=\"color: #00d7ff; text-decoration-color: #00d7ff\">None</span>, <span style=\"color: #00af00; text-decoration-color: #00af00\">64</span>)                  │           <span style=\"color: #00af00; text-decoration-color: #00af00\">8,256</span> │\n",
              "├──────────────────────────────────────┼─────────────────────────────┼─────────────────┤\n",
              "│ dense_3 (<span style=\"color: #0087ff; text-decoration-color: #0087ff\">Dense</span>)                      │ (<span style=\"color: #00d7ff; text-decoration-color: #00d7ff\">None</span>, <span style=\"color: #00af00; text-decoration-color: #00af00\">1</span>)                   │              <span style=\"color: #00af00; text-decoration-color: #00af00\">65</span> │\n",
              "└──────────────────────────────────────┴─────────────────────────────┴─────────────────┘\n",
              "</pre>\n"
            ]
          },
          "metadata": {}
        },
        {
          "output_type": "display_data",
          "data": {
            "text/plain": [
              "\u001b[1m Total params: \u001b[0m\u001b[38;5;34m28,545\u001b[0m (111.50 KB)\n"
            ],
            "text/html": [
              "<pre style=\"white-space:pre;overflow-x:auto;line-height:normal;font-family:Menlo,'DejaVu Sans Mono',consolas,'Courier New',monospace\"><span style=\"font-weight: bold\"> Total params: </span><span style=\"color: #00af00; text-decoration-color: #00af00\">28,545</span> (111.50 KB)\n",
              "</pre>\n"
            ]
          },
          "metadata": {}
        },
        {
          "output_type": "display_data",
          "data": {
            "text/plain": [
              "\u001b[1m Trainable params: \u001b[0m\u001b[38;5;34m28,545\u001b[0m (111.50 KB)\n"
            ],
            "text/html": [
              "<pre style=\"white-space:pre;overflow-x:auto;line-height:normal;font-family:Menlo,'DejaVu Sans Mono',consolas,'Courier New',monospace\"><span style=\"font-weight: bold\"> Trainable params: </span><span style=\"color: #00af00; text-decoration-color: #00af00\">28,545</span> (111.50 KB)\n",
              "</pre>\n"
            ]
          },
          "metadata": {}
        },
        {
          "output_type": "display_data",
          "data": {
            "text/plain": [
              "\u001b[1m Non-trainable params: \u001b[0m\u001b[38;5;34m0\u001b[0m (0.00 B)\n"
            ],
            "text/html": [
              "<pre style=\"white-space:pre;overflow-x:auto;line-height:normal;font-family:Menlo,'DejaVu Sans Mono',consolas,'Courier New',monospace\"><span style=\"font-weight: bold\"> Non-trainable params: </span><span style=\"color: #00af00; text-decoration-color: #00af00\">0</span> (0.00 B)\n",
              "</pre>\n"
            ]
          },
          "metadata": {}
        }
      ]
    },
    {
      "cell_type": "markdown",
      "source": [
        "3. Train the Model\n",
        "Now we train the DNN model using the training data:"
      ],
      "metadata": {
        "id": "3B22sELhOPxk"
      }
    },
    {
      "cell_type": "code",
      "source": [
        "# Train the model\n",
        "history = model.fit(X_train_scaled, y_train, epochs=50, batch_size=32, validation_data=(X_test_scaled, y_test))\n"
      ],
      "metadata": {
        "colab": {
          "base_uri": "https://localhost:8080/"
        },
        "id": "z1648uewOQFJ",
        "outputId": "e8d1fd42-6ee9-4cbe-ef03-0edef2d9f299"
      },
      "execution_count": null,
      "outputs": [
        {
          "output_type": "stream",
          "name": "stdout",
          "text": [
            "Epoch 1/50\n",
            "\u001b[1m2293/2293\u001b[0m \u001b[32m━━━━━━━━━━━━━━━━━━━━\u001b[0m\u001b[37m\u001b[0m \u001b[1m15s\u001b[0m 5ms/step - accuracy: 0.9192 - auc: 0.8205 - loss: 0.2301 - val_accuracy: 0.9277 - val_auc: 0.8822 - val_loss: 0.1997\n",
            "Epoch 2/50\n",
            "\u001b[1m2293/2293\u001b[0m \u001b[32m━━━━━━━━━━━━━━━━━━━━\u001b[0m\u001b[37m\u001b[0m \u001b[1m18s\u001b[0m 8ms/step - accuracy: 0.9297 - auc: 0.8934 - loss: 0.1896 - val_accuracy: 0.9269 - val_auc: 0.8868 - val_loss: 0.1959\n",
            "Epoch 3/50\n",
            "\u001b[1m2293/2293\u001b[0m \u001b[32m━━━━━━━━━━━━━━━━━━━━\u001b[0m\u001b[37m\u001b[0m \u001b[1m11s\u001b[0m 3ms/step - accuracy: 0.9313 - auc: 0.9024 - loss: 0.1827 - val_accuracy: 0.9295 - val_auc: 0.8873 - val_loss: 0.1944\n",
            "Epoch 4/50\n",
            "\u001b[1m2293/2293\u001b[0m \u001b[32m━━━━━━━━━━━━━━━━━━━━\u001b[0m\u001b[37m\u001b[0m \u001b[1m21s\u001b[0m 8ms/step - accuracy: 0.9332 - auc: 0.9061 - loss: 0.1790 - val_accuracy: 0.9297 - val_auc: 0.8827 - val_loss: 0.1987\n",
            "Epoch 5/50\n",
            "\u001b[1m2293/2293\u001b[0m \u001b[32m━━━━━━━━━━━━━━━━━━━━\u001b[0m\u001b[37m\u001b[0m \u001b[1m12s\u001b[0m 5ms/step - accuracy: 0.9358 - auc: 0.9201 - loss: 0.1684 - val_accuracy: 0.9261 - val_auc: 0.8798 - val_loss: 0.2048\n",
            "Epoch 6/50\n",
            "\u001b[1m2293/2293\u001b[0m \u001b[32m━━━━━━━━━━━━━━━━━━━━\u001b[0m\u001b[37m\u001b[0m \u001b[1m18s\u001b[0m 4ms/step - accuracy: 0.9407 - auc: 0.9297 - loss: 0.1565 - val_accuracy: 0.9256 - val_auc: 0.8755 - val_loss: 0.2072\n",
            "Epoch 7/50\n",
            "\u001b[1m2293/2293\u001b[0m \u001b[32m━━━━━━━━━━━━━━━━━━━━\u001b[0m\u001b[37m\u001b[0m \u001b[1m6s\u001b[0m 3ms/step - accuracy: 0.9424 - auc: 0.9375 - loss: 0.1508 - val_accuracy: 0.9254 - val_auc: 0.8649 - val_loss: 0.2241\n",
            "Epoch 8/50\n",
            "\u001b[1m2293/2293\u001b[0m \u001b[32m━━━━━━━━━━━━━━━━━━━━\u001b[0m\u001b[37m\u001b[0m \u001b[1m9s\u001b[0m 4ms/step - accuracy: 0.9469 - auc: 0.9452 - loss: 0.1407 - val_accuracy: 0.9242 - val_auc: 0.8620 - val_loss: 0.2294\n",
            "Epoch 9/50\n",
            "\u001b[1m2293/2293\u001b[0m \u001b[32m━━━━━━━━━━━━━━━━━━━━\u001b[0m\u001b[37m\u001b[0m \u001b[1m8s\u001b[0m 3ms/step - accuracy: 0.9492 - auc: 0.9519 - loss: 0.1331 - val_accuracy: 0.9207 - val_auc: 0.8595 - val_loss: 0.2265\n",
            "Epoch 10/50\n",
            "\u001b[1m2293/2293\u001b[0m \u001b[32m━━━━━━━━━━━━━━━━━━━━\u001b[0m\u001b[37m\u001b[0m \u001b[1m10s\u001b[0m 3ms/step - accuracy: 0.9520 - auc: 0.9581 - loss: 0.1257 - val_accuracy: 0.9177 - val_auc: 0.8499 - val_loss: 0.2360\n",
            "Epoch 11/50\n",
            "\u001b[1m2293/2293\u001b[0m \u001b[32m━━━━━━━━━━━━━━━━━━━━\u001b[0m\u001b[37m\u001b[0m \u001b[1m8s\u001b[0m 4ms/step - accuracy: 0.9554 - auc: 0.9618 - loss: 0.1176 - val_accuracy: 0.9176 - val_auc: 0.8393 - val_loss: 0.2667\n",
            "Epoch 12/50\n",
            "\u001b[1m2293/2293\u001b[0m \u001b[32m━━━━━━━━━━━━━━━━━━━━\u001b[0m\u001b[37m\u001b[0m \u001b[1m9s\u001b[0m 3ms/step - accuracy: 0.9578 - auc: 0.9667 - loss: 0.1123 - val_accuracy: 0.9184 - val_auc: 0.8312 - val_loss: 0.2672\n",
            "Epoch 13/50\n",
            "\u001b[1m2293/2293\u001b[0m \u001b[32m━━━━━━━━━━━━━━━━━━━━\u001b[0m\u001b[37m\u001b[0m \u001b[1m9s\u001b[0m 4ms/step - accuracy: 0.9607 - auc: 0.9733 - loss: 0.1021 - val_accuracy: 0.9179 - val_auc: 0.8226 - val_loss: 0.2827\n",
            "Epoch 14/50\n",
            "\u001b[1m2293/2293\u001b[0m \u001b[32m━━━━━━━━━━━━━━━━━━━━\u001b[0m\u001b[37m\u001b[0m \u001b[1m7s\u001b[0m 3ms/step - accuracy: 0.9624 - auc: 0.9738 - loss: 0.0997 - val_accuracy: 0.9103 - val_auc: 0.8247 - val_loss: 0.3048\n",
            "Epoch 15/50\n",
            "\u001b[1m2293/2293\u001b[0m \u001b[32m━━━━━━━━━━━━━━━━━━━━\u001b[0m\u001b[37m\u001b[0m \u001b[1m7s\u001b[0m 3ms/step - accuracy: 0.9673 - auc: 0.9803 - loss: 0.0868 - val_accuracy: 0.9110 - val_auc: 0.8131 - val_loss: 0.3049\n",
            "Epoch 16/50\n",
            "\u001b[1m2293/2293\u001b[0m \u001b[32m━━━━━━━━━━━━━━━━━━━━\u001b[0m\u001b[37m\u001b[0m \u001b[1m7s\u001b[0m 3ms/step - accuracy: 0.9679 - auc: 0.9805 - loss: 0.0858 - val_accuracy: 0.9112 - val_auc: 0.8132 - val_loss: 0.3522\n",
            "Epoch 17/50\n",
            "\u001b[1m2293/2293\u001b[0m \u001b[32m━━━━━━━━━━━━━━━━━━━━\u001b[0m\u001b[37m\u001b[0m \u001b[1m9s\u001b[0m 3ms/step - accuracy: 0.9704 - auc: 0.9818 - loss: 0.0803 - val_accuracy: 0.9090 - val_auc: 0.8093 - val_loss: 0.3509\n",
            "Epoch 18/50\n",
            "\u001b[1m2293/2293\u001b[0m \u001b[32m━━━━━━━━━━━━━━━━━━━━\u001b[0m\u001b[37m\u001b[0m \u001b[1m10s\u001b[0m 3ms/step - accuracy: 0.9722 - auc: 0.9855 - loss: 0.0741 - val_accuracy: 0.9028 - val_auc: 0.7964 - val_loss: 0.3716\n",
            "Epoch 19/50\n",
            "\u001b[1m2293/2293\u001b[0m \u001b[32m━━━━━━━━━━━━━━━━━━━━\u001b[0m\u001b[37m\u001b[0m \u001b[1m12s\u001b[0m 3ms/step - accuracy: 0.9752 - auc: 0.9881 - loss: 0.0672 - val_accuracy: 0.9103 - val_auc: 0.7947 - val_loss: 0.3909\n",
            "Epoch 20/50\n",
            "\u001b[1m2293/2293\u001b[0m \u001b[32m━━━━━━━━━━━━━━━━━━━━\u001b[0m\u001b[37m\u001b[0m \u001b[1m7s\u001b[0m 3ms/step - accuracy: 0.9754 - auc: 0.9886 - loss: 0.0649 - val_accuracy: 0.9066 - val_auc: 0.7920 - val_loss: 0.4026\n",
            "Epoch 21/50\n",
            "\u001b[1m2293/2293\u001b[0m \u001b[32m━━━━━━━━━━━━━━━━━━━━\u001b[0m\u001b[37m\u001b[0m \u001b[1m10s\u001b[0m 3ms/step - accuracy: 0.9772 - auc: 0.9886 - loss: 0.0627 - val_accuracy: 0.9069 - val_auc: 0.7747 - val_loss: 0.4434\n",
            "Epoch 22/50\n",
            "\u001b[1m2293/2293\u001b[0m \u001b[32m━━━━━━━━━━━━━━━━━━━━\u001b[0m\u001b[37m\u001b[0m \u001b[1m8s\u001b[0m 4ms/step - accuracy: 0.9779 - auc: 0.9912 - loss: 0.0591 - val_accuracy: 0.9043 - val_auc: 0.7793 - val_loss: 0.4365\n",
            "Epoch 23/50\n",
            "\u001b[1m2293/2293\u001b[0m \u001b[32m━━━━━━━━━━━━━━━━━━━━\u001b[0m\u001b[37m\u001b[0m \u001b[1m8s\u001b[0m 4ms/step - accuracy: 0.9790 - auc: 0.9919 - loss: 0.0555 - val_accuracy: 0.9055 - val_auc: 0.7821 - val_loss: 0.4672\n",
            "Epoch 24/50\n",
            "\u001b[1m2293/2293\u001b[0m \u001b[32m━━━━━━━━━━━━━━━━━━━━\u001b[0m\u001b[37m\u001b[0m \u001b[1m10s\u001b[0m 4ms/step - accuracy: 0.9808 - auc: 0.9913 - loss: 0.0552 - val_accuracy: 0.9084 - val_auc: 0.7688 - val_loss: 0.5149\n",
            "Epoch 25/50\n",
            "\u001b[1m2293/2293\u001b[0m \u001b[32m━━━━━━━━━━━━━━━━━━━━\u001b[0m\u001b[37m\u001b[0m \u001b[1m7s\u001b[0m 3ms/step - accuracy: 0.9816 - auc: 0.9920 - loss: 0.0510 - val_accuracy: 0.9028 - val_auc: 0.7765 - val_loss: 0.4899\n",
            "Epoch 26/50\n",
            "\u001b[1m2293/2293\u001b[0m \u001b[32m━━━━━━━━━━━━━━━━━━━━\u001b[0m\u001b[37m\u001b[0m \u001b[1m10s\u001b[0m 3ms/step - accuracy: 0.9827 - auc: 0.9938 - loss: 0.0468 - val_accuracy: 0.9058 - val_auc: 0.7616 - val_loss: 0.5113\n",
            "Epoch 27/50\n",
            "\u001b[1m2293/2293\u001b[0m \u001b[32m━━━━━━━━━━━━━━━━━━━━\u001b[0m\u001b[37m\u001b[0m \u001b[1m11s\u001b[0m 3ms/step - accuracy: 0.9834 - auc: 0.9940 - loss: 0.0467 - val_accuracy: 0.9056 - val_auc: 0.7754 - val_loss: 0.5241\n",
            "Epoch 28/50\n",
            "\u001b[1m2293/2293\u001b[0m \u001b[32m━━━━━━━━━━━━━━━━━━━━\u001b[0m\u001b[37m\u001b[0m \u001b[1m11s\u001b[0m 4ms/step - accuracy: 0.9845 - auc: 0.9941 - loss: 0.0424 - val_accuracy: 0.9085 - val_auc: 0.7512 - val_loss: 0.5747\n",
            "Epoch 29/50\n",
            "\u001b[1m2293/2293\u001b[0m \u001b[32m━━━━━━━━━━━━━━━━━━━━\u001b[0m\u001b[37m\u001b[0m \u001b[1m8s\u001b[0m 3ms/step - accuracy: 0.9852 - auc: 0.9941 - loss: 0.0428 - val_accuracy: 0.9031 - val_auc: 0.7672 - val_loss: 0.5663\n",
            "Epoch 30/50\n",
            "\u001b[1m2293/2293\u001b[0m \u001b[32m━━━━━━━━━━━━━━━━━━━━\u001b[0m\u001b[37m\u001b[0m \u001b[1m8s\u001b[0m 3ms/step - accuracy: 0.9850 - auc: 0.9947 - loss: 0.0418 - val_accuracy: 0.9041 - val_auc: 0.7687 - val_loss: 0.5824\n",
            "Epoch 31/50\n",
            "\u001b[1m2293/2293\u001b[0m \u001b[32m━━━━━━━━━━━━━━━━━━━━\u001b[0m\u001b[37m\u001b[0m \u001b[1m11s\u001b[0m 4ms/step - accuracy: 0.9867 - auc: 0.9950 - loss: 0.0383 - val_accuracy: 0.9082 - val_auc: 0.7447 - val_loss: 0.6061\n",
            "Epoch 32/50\n",
            "\u001b[1m2293/2293\u001b[0m \u001b[32m━━━━━━━━━━━━━━━━━━━━\u001b[0m\u001b[37m\u001b[0m \u001b[1m6s\u001b[0m 3ms/step - accuracy: 0.9867 - auc: 0.9956 - loss: 0.0377 - val_accuracy: 0.9042 - val_auc: 0.7566 - val_loss: 0.6427\n",
            "Epoch 33/50\n",
            "\u001b[1m2293/2293\u001b[0m \u001b[32m━━━━━━━━━━━━━━━━━━━━\u001b[0m\u001b[37m\u001b[0m \u001b[1m8s\u001b[0m 4ms/step - accuracy: 0.9865 - auc: 0.9962 - loss: 0.0374 - val_accuracy: 0.9044 - val_auc: 0.7591 - val_loss: 0.6413\n",
            "Epoch 34/50\n",
            "\u001b[1m2293/2293\u001b[0m \u001b[32m━━━━━━━━━━━━━━━━━━━━\u001b[0m\u001b[37m\u001b[0m \u001b[1m9s\u001b[0m 3ms/step - accuracy: 0.9869 - auc: 0.9961 - loss: 0.0357 - val_accuracy: 0.9063 - val_auc: 0.7477 - val_loss: 0.6767\n",
            "Epoch 35/50\n",
            "\u001b[1m2293/2293\u001b[0m \u001b[32m━━━━━━━━━━━━━━━━━━━━\u001b[0m\u001b[37m\u001b[0m \u001b[1m10s\u001b[0m 3ms/step - accuracy: 0.9870 - auc: 0.9959 - loss: 0.0357 - val_accuracy: 0.9052 - val_auc: 0.7518 - val_loss: 0.6647\n",
            "Epoch 36/50\n",
            "\u001b[1m2293/2293\u001b[0m \u001b[32m━━━━━━━━━━━━━━━━━━━━\u001b[0m\u001b[37m\u001b[0m \u001b[1m8s\u001b[0m 3ms/step - accuracy: 0.9880 - auc: 0.9960 - loss: 0.0336 - val_accuracy: 0.9039 - val_auc: 0.7501 - val_loss: 0.7217\n",
            "Epoch 37/50\n",
            "\u001b[1m2293/2293\u001b[0m \u001b[32m━━━━━━━━━━━━━━━━━━━━\u001b[0m\u001b[37m\u001b[0m \u001b[1m6s\u001b[0m 3ms/step - accuracy: 0.9885 - auc: 0.9963 - loss: 0.0316 - val_accuracy: 0.9013 - val_auc: 0.7485 - val_loss: 0.7176\n",
            "Epoch 38/50\n",
            "\u001b[1m2293/2293\u001b[0m \u001b[32m━━━━━━━━━━━━━━━━━━━━\u001b[0m\u001b[37m\u001b[0m \u001b[1m12s\u001b[0m 3ms/step - accuracy: 0.9883 - auc: 0.9958 - loss: 0.0338 - val_accuracy: 0.9047 - val_auc: 0.7354 - val_loss: 0.7258\n",
            "Epoch 39/50\n",
            "\u001b[1m2293/2293\u001b[0m \u001b[32m━━━━━━━━━━━━━━━━━━━━\u001b[0m\u001b[37m\u001b[0m \u001b[1m11s\u001b[0m 3ms/step - accuracy: 0.9900 - auc: 0.9978 - loss: 0.0283 - val_accuracy: 0.9086 - val_auc: 0.7325 - val_loss: 0.7588\n",
            "Epoch 40/50\n",
            "\u001b[1m2293/2293\u001b[0m \u001b[32m━━━━━━━━━━━━━━━━━━━━\u001b[0m\u001b[37m\u001b[0m \u001b[1m10s\u001b[0m 3ms/step - accuracy: 0.9880 - auc: 0.9958 - loss: 0.0347 - val_accuracy: 0.9086 - val_auc: 0.7449 - val_loss: 0.7192\n",
            "Epoch 41/50\n",
            "\u001b[1m2293/2293\u001b[0m \u001b[32m━━━━━━━━━━━━━━━━━━━━\u001b[0m\u001b[37m\u001b[0m \u001b[1m6s\u001b[0m 3ms/step - accuracy: 0.9902 - auc: 0.9977 - loss: 0.0271 - val_accuracy: 0.9054 - val_auc: 0.7384 - val_loss: 0.7735\n",
            "Epoch 42/50\n",
            "\u001b[1m2293/2293\u001b[0m \u001b[32m━━━━━━━━━━━━━━━━━━━━\u001b[0m\u001b[37m\u001b[0m \u001b[1m9s\u001b[0m 4ms/step - accuracy: 0.9892 - auc: 0.9962 - loss: 0.0319 - val_accuracy: 0.9061 - val_auc: 0.7373 - val_loss: 0.8005\n",
            "Epoch 43/50\n",
            "\u001b[1m2293/2293\u001b[0m \u001b[32m━━━━━━━━━━━━━━━━━━━━\u001b[0m\u001b[37m\u001b[0m \u001b[1m6s\u001b[0m 3ms/step - accuracy: 0.9904 - auc: 0.9971 - loss: 0.0288 - val_accuracy: 0.9075 - val_auc: 0.7323 - val_loss: 0.7919\n",
            "Epoch 44/50\n",
            "\u001b[1m2293/2293\u001b[0m \u001b[32m━━━━━━━━━━━━━━━━━━━━\u001b[0m\u001b[37m\u001b[0m \u001b[1m11s\u001b[0m 3ms/step - accuracy: 0.9908 - auc: 0.9972 - loss: 0.0259 - val_accuracy: 0.9045 - val_auc: 0.7404 - val_loss: 0.7644\n",
            "Epoch 45/50\n",
            "\u001b[1m2293/2293\u001b[0m \u001b[32m━━━━━━━━━━━━━━━━━━━━\u001b[0m\u001b[37m\u001b[0m \u001b[1m7s\u001b[0m 3ms/step - accuracy: 0.9904 - auc: 0.9970 - loss: 0.0273 - val_accuracy: 0.9061 - val_auc: 0.7419 - val_loss: 0.8197\n",
            "Epoch 46/50\n",
            "\u001b[1m2293/2293\u001b[0m \u001b[32m━━━━━━━━━━━━━━━━━━━━\u001b[0m\u001b[37m\u001b[0m \u001b[1m8s\u001b[0m 3ms/step - accuracy: 0.9917 - auc: 0.9979 - loss: 0.0238 - val_accuracy: 0.9020 - val_auc: 0.7381 - val_loss: 0.7977\n",
            "Epoch 47/50\n",
            "\u001b[1m2293/2293\u001b[0m \u001b[32m━━━━━━━━━━━━━━━━━━━━\u001b[0m\u001b[37m\u001b[0m \u001b[1m7s\u001b[0m 3ms/step - accuracy: 0.9904 - auc: 0.9970 - loss: 0.0274 - val_accuracy: 0.9080 - val_auc: 0.7275 - val_loss: 0.8364\n",
            "Epoch 48/50\n",
            "\u001b[1m2293/2293\u001b[0m \u001b[32m━━━━━━━━━━━━━━━━━━━━\u001b[0m\u001b[37m\u001b[0m \u001b[1m8s\u001b[0m 3ms/step - accuracy: 0.9920 - auc: 0.9978 - loss: 0.0236 - val_accuracy: 0.9008 - val_auc: 0.7397 - val_loss: 0.8563\n",
            "Epoch 49/50\n",
            "\u001b[1m2293/2293\u001b[0m \u001b[32m━━━━━━━━━━━━━━━━━━━━\u001b[0m\u001b[37m\u001b[0m \u001b[1m7s\u001b[0m 3ms/step - accuracy: 0.9916 - auc: 0.9976 - loss: 0.0241 - val_accuracy: 0.9028 - val_auc: 0.7331 - val_loss: 0.8554\n",
            "Epoch 50/50\n",
            "\u001b[1m2293/2293\u001b[0m \u001b[32m━━━━━━━━━━━━━━━━━━━━\u001b[0m\u001b[37m\u001b[0m \u001b[1m9s\u001b[0m 3ms/step - accuracy: 0.9913 - auc: 0.9975 - loss: 0.0253 - val_accuracy: 0.9075 - val_auc: 0.7226 - val_loss: 0.8838\n"
          ]
        }
      ]
    },
    {
      "cell_type": "markdown",
      "source": [
        "4. Evaluate the Model\n",
        "After training, we evaluate the model on the test data using Accuracy and AUC."
      ],
      "metadata": {
        "id": "G2iO_IMOOVPy"
      }
    },
    {
      "cell_type": "code",
      "source": [
        "# Evaluate the model\n",
        "loss, accuracy, auc = model.evaluate(X_test_scaled, y_test)\n",
        "print(f\"Test Accuracy: {accuracy}\")\n",
        "print(f\"Test AUC: {auc}\")\n"
      ],
      "metadata": {
        "colab": {
          "base_uri": "https://localhost:8080/"
        },
        "id": "XwFsNlTrOUpd",
        "outputId": "41c992d5-d95d-4140-e128-2e35df4be518"
      },
      "execution_count": null,
      "outputs": [
        {
          "output_type": "stream",
          "name": "stdout",
          "text": [
            "\u001b[1m574/574\u001b[0m \u001b[32m━━━━━━━━━━━━━━━━━━━━\u001b[0m\u001b[37m\u001b[0m \u001b[1m1s\u001b[0m 1ms/step - accuracy: 0.9098 - auc: 0.7267 - loss: 0.8725\n",
            "Test Accuracy: 0.9075396656990051\n",
            "Test AUC: 0.7225976586341858\n"
          ]
        }
      ]
    },
    {
      "cell_type": "markdown",
      "source": [
        "5. Visualize the Training Process\n",
        "Finally, we can visualize the training and validation accuracy and loss to understand the model's learning behavior."
      ],
      "metadata": {
        "id": "OVV2jASgOad4"
      }
    },
    {
      "cell_type": "code",
      "source": [
        "import matplotlib.pyplot as plt\n",
        "\n",
        "# Plot training & validation accuracy values\n",
        "plt.plot(history.history['accuracy'], label='Training Accuracy')\n",
        "plt.plot(history.history['val_accuracy'], label='Validation Accuracy')\n",
        "plt.title('Model Accuracy')\n",
        "plt.ylabel('Accuracy')\n",
        "plt.xlabel('Epoch')\n",
        "plt.legend(loc='upper left')\n",
        "plt.show()\n",
        "\n",
        "# Plot training & validation loss values\n",
        "plt.plot(history.history['loss'], label='Training Loss')\n",
        "plt.plot(history.history['val_loss'], label='Validation Loss')\n",
        "plt.title('Model Loss')\n",
        "plt.ylabel('Loss')\n",
        "plt.xlabel('Epoch')\n",
        "plt.legend(loc='upper left')\n",
        "plt.show()\n"
      ],
      "metadata": {
        "colab": {
          "base_uri": "https://localhost:8080/",
          "height": 927
        },
        "id": "IgOEUw22Oa1E",
        "outputId": "110e6481-6e6d-45bd-ae17-bcb897abec41"
      },
      "execution_count": null,
      "outputs": [
        {
          "output_type": "display_data",
          "data": {
            "text/plain": [
              "<Figure size 640x480 with 1 Axes>"
            ],
            "image/png": "[encoded data removed]"
          },
          "metadata": {}
        },
        {
          "output_type": "display_data",
          "data": {
            "text/plain": [
              "<Figure size 640x480 with 1 Axes>"
            ],
            "image/png": "[encoded data removed]"
          },
          "metadata": {}
        }
      ]
    }
  ]
}